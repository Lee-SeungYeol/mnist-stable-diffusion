{
 "cells": [
  {
   "cell_type": "code",
   "execution_count": 1,
   "metadata": {},
   "outputs": [],
   "source": [
    "import torch\n",
    "import torchvision\n",
    "import torch.optim as optim\n",
    "\n",
    "from torchvision import transforms\n",
    "from torchvision.datasets import ImageFolder\n",
    "\n",
    "\n",
    "import matplotlib.pyplot as plt\n",
    "import numpy as np\n",
    "import functools as functions\n",
    "from tqdm import tqdm\n",
    "\n",
    "from utils import marginal_prob_std,diffusion_coeff,Euler_Maruyama_sampler\n",
    "from config import CFG\n",
    "from loss_function import loss_fn,loss_fn_cond\n",
    "from model_layer import Unet,Unet_Transformer\n",
    "\n"
   ]
  },
  {
   "cell_type": "code",
   "execution_count": 2,
   "metadata": {},
   "outputs": [],
   "source": [
    "transform = transforms.Compose([\n",
    "    transforms.Resize((320,320)),\n",
    "    transforms.RandomHorizontalFlip(),\n",
    "    transforms.ToTensor(),\n",
    "    \n",
    "])\n",
    "\n",
    "train_dataset=ImageFolder(root='C:/Users/admin/Desktop/VSC/custom_AI_data',\n",
    "                     transform=transform)\n",
    "\n"
   ]
  },
  {
   "cell_type": "code",
   "execution_count": 3,
   "metadata": {},
   "outputs": [],
   "source": [
    "train_loader=torch.utils.data.DataLoader(train_dataset,batch_size=8,shuffle=True)"
   ]
  },
  {
   "cell_type": "code",
   "execution_count": 4,
   "metadata": {},
   "outputs": [],
   "source": [
    "sigma=25.0\n",
    "marginal_prob_std_fn=functions.partial(marginal_prob_std,sigma=sigma)\n",
    "diffusion_coeff_fn=functions.partial(diffusion_coeff,sigma=sigma)\n",
    "\n",
    "score_model=torch.nn.DataParallel(Unet_Transformer(marginal_prob_std=marginal_prob_std_fn))\n",
    "score_model=score_model.to(CFG['device'])\n",
    "optimizer=optim.Adam(score_model.parameters(),lr=CFG['lr'])\n",
    "# scheduler = optim.lr_scheduler.LambdaLR(optimizer, lr_lambda=lambda epoch: max(0.2, 0.98 ** epoch))\n",
    "scheduler = torch.optim.lr_scheduler.StepLR(optimizer, step_size=20, gamma=0.5)"
   ]
  },
  {
   "cell_type": "code",
   "execution_count": 5,
   "metadata": {},
   "outputs": [
    {
     "name": "stderr",
     "output_type": "stream",
     "text": [
      "  0%|          | 0/1250 [00:00<?, ?it/s]c:\\Users\\admin\\Desktop\\VSC\\Project_01_Developer\\project01\\stable_diffusion\\utils.py:40: UserWarning: To copy construct from a tensor, it is recommended to use sourceTensor.clone().detach() or sourceTensor.clone().detach().requires_grad_(True), rather than torch.tensor(sourceTensor).\n",
      "  t=torch.tensor(t,device=CFG['device'])\n",
      "  8%|▊         | 101/1250 [00:24<04:34,  4.19it/s]\n"
     ]
    },
    {
     "ename": "KeyboardInterrupt",
     "evalue": "",
     "output_type": "error",
     "traceback": [
      "\u001b[1;31m---------------------------------------------------------------------------\u001b[0m",
      "\u001b[1;31mKeyboardInterrupt\u001b[0m                         Traceback (most recent call last)",
      "Cell \u001b[1;32mIn[5], line 11\u001b[0m\n\u001b[0;32m      9\u001b[0m     loss\u001b[38;5;241m.\u001b[39mbackward()\n\u001b[0;32m     10\u001b[0m     optimizer\u001b[38;5;241m.\u001b[39mstep()\n\u001b[1;32m---> 11\u001b[0m     avg_loss\u001b[38;5;241m+\u001b[39m\u001b[38;5;241m=\u001b[39m\u001b[43mloss\u001b[49m\u001b[38;5;241;43m.\u001b[39;49m\u001b[43mitem\u001b[49m\u001b[43m(\u001b[49m\u001b[43m)\u001b[49m\u001b[38;5;241m*\u001b[39mimages\u001b[38;5;241m.\u001b[39mshape[\u001b[38;5;241m0\u001b[39m]\n\u001b[0;32m     12\u001b[0m     num_items\u001b[38;5;241m+\u001b[39m\u001b[38;5;241m=\u001b[39mimages\u001b[38;5;241m.\u001b[39mshape[\u001b[38;5;241m0\u001b[39m]\n\u001b[0;32m     15\u001b[0m scheduler\u001b[38;5;241m.\u001b[39mstep()\n",
      "\u001b[1;31mKeyboardInterrupt\u001b[0m: "
     ]
    }
   ],
   "source": [
    "for epoch in range(1,CFG['EPOCH']+1):\n",
    "    score_model.train()\n",
    "    avg_loss=0\n",
    "    num_items=0\n",
    "    for images,labels in tqdm(train_loader):\n",
    "        images=images.to(CFG['device'])\n",
    "        loss,score = loss_fn_cond(score_model,images,labels,marginal_prob_std_fn)\n",
    "        optimizer.zero_grad()\n",
    "        loss.backward()\n",
    "        optimizer.step()\n",
    "        avg_loss+=loss.item()*images.shape[0]\n",
    "        num_items+=images.shape[0]\n",
    "\n",
    "\n",
    "    scheduler.step()\n",
    "    lr_current = scheduler.get_last_lr()[0]\n",
    "\n",
    "    print(f\"EPOCH: {epoch}   Train Average Loss: {avg_loss/num_items}  LR_CURRENT: {lr_current}\" )\n",
    "\n",
    "    torch.save(score_model.state_dict(),'../../models/stable_diffusion.pth')\n",
    "\n",
    "\n",
    "    if epoch%20==0:\n",
    "        score_model.eval()\n",
    "        with torch.no_grad():\n",
    "            test_label=0 # bear\n",
    "            sample_batch_size=1\n",
    "            sampler=Euler_Maruyama_sampler\n",
    "            sampler=sampler(score_model,\n",
    "                            marginal_prob_std_fn,\n",
    "                            diffusion_coeff_fn,\n",
    "                            sample_batch_size,\n",
    "                            num_steps=1000,\n",
    "                            device=CFG['device'],\n",
    "                            y=test_label*torch.ones(sample_batch_size, dtype=torch.long))\n",
    "            \n",
    "            sampler.clamp(0,1)\n",
    "            plt.imshow(sampler[0].permute(1,2,0).cpu().detach())\n",
    "            plt.savefig('./save_image/generation_image.png')\n"
   ]
  },
  {
   "cell_type": "code",
   "execution_count": null,
   "metadata": {},
   "outputs": [],
   "source": []
  },
  {
   "cell_type": "code",
   "execution_count": null,
   "metadata": {},
   "outputs": [],
   "source": []
  },
  {
   "cell_type": "code",
   "execution_count": null,
   "metadata": {},
   "outputs": [],
   "source": []
  }
 ],
 "metadata": {
  "kernelspec": {
   "display_name": "Python 3",
   "language": "python",
   "name": "python3"
  },
  "language_info": {
   "codemirror_mode": {
    "name": "ipython",
    "version": 3
   },
   "file_extension": ".py",
   "mimetype": "text/x-python",
   "name": "python",
   "nbconvert_exporter": "python",
   "pygments_lexer": "ipython3",
   "version": "3.11.9"
  }
 },
 "nbformat": 4,
 "nbformat_minor": 2
}
